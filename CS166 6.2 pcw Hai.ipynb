{
 "cells": [
  {
   "cell_type": "code",
   "execution_count": 1,
   "metadata": {},
   "outputs": [],
   "source": [
    "import numpy as np\n",
    "import scipy.stats as sts\n",
    "import matplotlib.pyplot as plt"
   ]
  },
  {
   "cell_type": "markdown",
   "metadata": {},
   "source": [
    "### Exercise 1"
   ]
  },
  {
   "cell_type": "code",
   "execution_count": 17,
   "metadata": {},
   "outputs": [
    {
     "name": "stdout",
     "output_type": "stream",
     "text": [
      "0.9902931461654756\n"
     ]
    }
   ],
   "source": [
    "#For case 1: exponential bus interarrival time\n",
    "lamb = 1 #not sure - not given?\n",
    "\n",
    "wait = []\n",
    "\n",
    "for i in range(10000): #simulate 10000 times\n",
    "    passenger_arrive = np.random.uniform(0,5) #not given this as well - assuming he/she arrives in the first 5 mins\n",
    "    bus_interarrive=[] #list to simulate 50 bus interarrival times\n",
    "    for j in range(50):\n",
    "        bus_interarrive.append(np.random.exponential(lamb))\n",
    "    bus_arrive_times = np.cumsum(bus_interarrive) #get the actual arrival time\n",
    "    a = bus_arrive_times.searchsorted(passenger_arrive) #this function finds the closest bus arrival time\n",
    "    #after the passenger arrival time\n",
    "    wait.append(bus_arrive_times[a] - passenger_arrive)\n",
    "    \n",
    "print(np.mean(wait))\n",
    "\n"
   ]
  },
  {
   "cell_type": "code",
   "execution_count": 18,
   "metadata": {},
   "outputs": [
    {
     "data": {
      "image/png": "[encoded data removed]",
      "text/plain": [
       "<Figure size 432x288 with 1 Axes>"
      ]
     },
     "metadata": {
      "needs_background": "light"
     },
     "output_type": "display_data"
    }
   ],
   "source": [
    "plt.hist(wait)\n",
    "plt.title(\"Distribution of wait times\")\n",
    "plt.show()"
   ]
  },
  {
   "cell_type": "code",
   "execution_count": 20,
   "metadata": {},
   "outputs": [
    {
     "name": "stdout",
     "output_type": "stream",
     "text": [
      "0.6889448632391857\n"
     ]
    }
   ],
   "source": [
    "#For case 2: uniform bus interarrival time\n",
    "lamb = 1 #not sure - not given?\n",
    "\n",
    "wait2 = []\n",
    "\n",
    "for i in range(10000): #simulate 10000 times\n",
    "    passenger_arrive = np.random.uniform(0,5) #not given this as well - assuming he/she arrives in the first 5 mins\n",
    "    bus_interarrive=[] #list to simulate 50 bus interarrival times\n",
    "    for j in range(50):\n",
    "        bus_interarrive.append(np.random.uniform(0,lamb*2))\n",
    "    bus_arrive_times = np.cumsum(bus_interarrive) #get the actual arrival time\n",
    "    a = bus_arrive_times.searchsorted(passenger_arrive) #this function finds the closest bus arrival time\n",
    "    #after the passenger arrival time\n",
    "    wait2.append(bus_arrive_times[a] - passenger_arrive)\n",
    "    \n",
    "print(np.mean(wait2))\n",
    "\n"
   ]
  },
  {
   "cell_type": "code",
   "execution_count": 21,
   "metadata": {},
   "outputs": [
    {
     "data": {
      "image/png": "[encoded data removed]",
      "text/plain": [
       "<Figure size 432x288 with 1 Axes>"
      ]
     },
     "metadata": {
      "needs_background": "light"
     },
     "output_type": "display_data"
    }
   ],
   "source": [
    "plt.hist(wait2)\n",
    "plt.title(\"Distribution of wait times\")\n",
    "plt.show()"
   ]
  },
  {
   "cell_type": "markdown",
   "metadata": {},
   "source": [
    "### Exercise 2"
   ]
  },
  {
   "cell_type": "code",
   "execution_count": 43,
   "metadata": {},
   "outputs": [],
   "source": [
    "data = {\n",
    "    50: 0.00832,\n",
    "    51: 0.00911,\n",
    "    52: 0.00996,\n",
    "    53: 0.01089,\n",
    "    54: 0.01190,\n",
    "    55: 0.01300,\n",
    "    56: 0.01421,\n",
    "    57: 0.01554,\n",
    "    58: 0.01700,\n",
    "    59: 0.01859,\n",
    "    60: 0.02034,\n",
    "    61: 0.02224,\n",
    "    62: 0.02431,\n",
    "    63: 0.02657,\n",
    "    64: 0.02904,\n",
    "    65: 0.03175,\n",
    "    66: 0.03474,\n",
    "    67: 0.03804,\n",
    "    68: 0.04168,\n",
    "    69: 0.04561,\n",
    "    70: 0.04979,\n",
    "    71: 0.05415,\n",
    "    72: 0.05865,\n",
    "    73: 0.06326,\n",
    "    74: 0.06812,\n",
    "    75: 0.07337,\n",
    "    76: 0.07918,\n",
    "    77: 0.08570,\n",
    "    78: 0.09306,\n",
    "    79: 0.10119,\n",
    "    80: 0.10998,\n",
    "    81: 0.11935,\n",
    "    82: 0.12917,\n",
    "    83: 0.13938,\n",
    "    84: 0.15001,\n",
    "    85: 0.16114,\n",
    "    86: 0.17282,\n",
    "    87: 0.18513,\n",
    "    88: 0.19825,\n",
    "    89: 0.21246,\n",
    "    90: 0.22814,\n",
    "    91: 0.24577,\n",
    "    92: 0.26593,\n",
    "    93: 0.28930,\n",
    "    94: 0.31666,\n",
    "    95: 0.35124,\n",
    "    96: 0.40056,\n",
    "    97: 0.48842,\n",
    "    98: 0.66815,\n",
    "    99: 0.72000,\n",
    "    100: 0.76000,\n",
    "    101: 0.80000,\n",
    "    102: 0.85000,\n",
    "    103: 0.90000,\n",
    "    104: 0.96000,\n",
    "    105: 1.00000}\n",
    "\n",
    "death_money = []\n",
    "for i in range(10000): #have 10000 trials\n",
    "    age = 50\n",
    "    invested = 150000\n",
    "    ded = False\n",
    "    while ded == False:\n",
    "        if np.random.uniform(0,1) > data[age]: #does not die\n",
    "            if 50<=age<=70: #contribution from 50 to 70 years old\n",
    "                interest_rate = np.random.normal(0.08, 0.09)\n",
    "                invested = invested*(1+interest_rate) + 10000 #put in $10000 more each year\n",
    "                age += 1\n",
    "            else: #71 years old or more:\n",
    "                interest_rate = np.random.normal(0.08, 0.09)\n",
    "                invested = invested*(1+interest_rate) - 65000 #take out $65000 per year\n",
    "                age += 1\n",
    "        else:\n",
    "            death_money.append(invested)\n",
    "            ded = True\n",
    "    "
   ]
  },
  {
   "cell_type": "code",
   "execution_count": 44,
   "metadata": {},
   "outputs": [
    {
     "data": {
      "image/png": "[encoded data removed]",
      "text/plain": [
       "<Figure size 432x288 with 1 Axes>"
      ]
     },
     "metadata": {
      "needs_background": "light"
     },
     "output_type": "display_data"
    }
   ],
   "source": [
    "plt.hist(death_money, bins = 20)\n",
    "plt.show()"
   ]
  },
  {
   "cell_type": "code",
   "execution_count": 45,
   "metadata": {},
   "outputs": [
    {
     "data": {
      "text/plain": [
       "1368467.1177824514"
      ]
     },
     "execution_count": 45,
     "metadata": {},
     "output_type": "execute_result"
    }
   ],
   "source": [
    "np.mean(death_money)"
   ]
  },
  {
   "cell_type": "code",
   "execution_count": null,
   "metadata": {},
   "outputs": [],
   "source": []
  }
 ],
 "metadata": {
  "kernelspec": {
   "display_name": "Python 3",
   "language": "python",
   "name": "python3"
  },
  "language_info": {
   "codemirror_mode": {
    "name": "ipython",
    "version": 3
   },
   "file_extension": ".py",
   "mimetype": "text/x-python",
   "name": "python",
   "nbconvert_exporter": "python",
   "pygments_lexer": "ipython3",
   "version": "3.8.3"
  }
 },
 "nbformat": 4,
 "nbformat_minor": 4
}
